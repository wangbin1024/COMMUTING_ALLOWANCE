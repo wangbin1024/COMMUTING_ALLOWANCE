{
 "cells": [
  {
   "cell_type": "code",
   "execution_count": 0,
   "metadata": {
    "application/vnd.databricks.v1+cell": {
     "cellMetadata": {
      "byteLimit": 2048000,
      "rowLimit": 10000
     },
     "inputWidgets": {},
     "nuid": "cdf278fb-2ac3-45e6-b695-6c791afed39c",
     "showTitle": false,
     "tableResultSettingsMap": {},
     "title": ""
    }
   },
   "outputs": [],
   "source": [
    "%pip install -U -qqqq databricks-sql-connector databricks-sdk langchain langchain-community databricks-langchain langchain_core langchain_community langgraph databricks-agents mlflow mlflow-skinny python-docx openpyxl pillow transformers torch uv pypdf langgraph==0.3.4 sentence-transformers google-cloud-vision fugashi ipadic unidic-lite openevals streamlit"
   ]
  },
  {
   "cell_type": "code",
   "execution_count": 0,
   "metadata": {
    "application/vnd.databricks.v1+cell": {
     "cellMetadata": {
      "byteLimit": 2048000,
      "rowLimit": 10000
     },
     "inputWidgets": {},
     "nuid": "b23cdd3c-d01f-4e3b-bfe1-cbf232022cc3",
     "showTitle": false,
     "tableResultSettingsMap": {},
     "title": ""
    }
   },
   "outputs": [],
   "source": [
    "dbutils.library.restartPython() "
   ]
  },
  {
   "cell_type": "code",
   "execution_count": 0,
   "metadata": {
    "application/vnd.databricks.v1+cell": {
     "cellMetadata": {
      "byteLimit": 2048000,
      "rowLimit": 10000
     },
     "inputWidgets": {},
     "nuid": "3470799a-d38a-4027-8d43-ab6181824fff",
     "showTitle": false,
     "tableResultSettingsMap": {},
     "title": ""
    }
   },
   "outputs": [],
   "source": [
    "from dbruntime.databricks_repl_context import get_context\n",
    "\n",
    "def front_url(port):\n",
    "    \"\"\"\n",
    "    フロントエンドを実行するための URL を返す\n",
    "\n",
    "    Returns\n",
    "    -------\n",
    "    proxy_url : str\n",
    "        フロントエンドのURL\n",
    "    \"\"\"\n",
    "    ctx = get_context()\n",
    "    proxy_url = f\"https://{ctx.browserHostName}/driver-proxy/o/{ctx.workspaceId}/{ctx.clusterId}/{port}/\"\n",
    "\n",
    "    return proxy_url\n",
    "\n",
    "PORT = 1501\n",
    "\n",
    "# Driver ProxyのURLを表示\n",
    "print(front_url(PORT))\n",
    "\n",
    "# 利便性のためにリンクをHTML表示\n",
    "displayHTML(f\"<a href='{front_url(PORT)}' target='_blank' rel='noopener noreferrer'>別ウインドウで開く</a>\")\n"
   ]
  },
  {
   "cell_type": "code",
   "execution_count": 0,
   "metadata": {
    "application/vnd.databricks.v1+cell": {
     "cellMetadata": {
      "byteLimit": 2048000,
      "rowLimit": 10000
     },
     "collapsed": true,
     "inputWidgets": {},
     "nuid": "5a30e009-d2e3-4d62-94ed-416cc8b1093d",
     "showTitle": false,
     "tableResultSettingsMap": {},
     "title": ""
    }
   },
   "outputs": [],
   "source": [
    "streamlit_file = \"/Workspace/Users/wang-b2@itec.hankyu-hanshin.co.jp/COMMUTING_ALLOWANCE/commuting_allowance/streamlit_app.py\"\n",
    "\n",
    "!streamlit run {streamlit_file} --server.port {PORT}\n"
   ]
  }
 ],
 "metadata": {
  "application/vnd.databricks.v1+notebook": {
   "computePreferences": null,
   "dashboards": [],
   "environmentMetadata": {
    "base_environment": "",
    "environment_version": "2"
   },
   "inputWidgetPreferences": null,
   "language": "python",
   "notebookMetadata": {
    "mostRecentlyExecutedCommandWithImplicitDF": {
     "commandId": 6892743825734874,
     "dataframes": [
      "_sqldf"
     ]
    },
    "pythonIndentUnit": 4
   },
   "notebookName": "AI APP",
   "widgets": {}
  },
  "language_info": {
   "name": "python"
  }
 },
 "nbformat": 4,
 "nbformat_minor": 0
}
